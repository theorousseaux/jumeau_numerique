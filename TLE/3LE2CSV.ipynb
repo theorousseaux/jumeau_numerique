{
 "cells": [
  {
   "cell_type": "code",
   "execution_count": 10,
   "metadata": {},
   "outputs": [],
   "source": [
    "\n",
    "sourcefile = open('full_cat3LE', 'r')\n"
   ]
  },
  {
   "cell_type": "code",
   "execution_count": 11,
   "metadata": {},
   "outputs": [],
   "source": [
    "Lines = sourcefile.readlines()\n",
    "\n"
   ]
  },
  {
   "cell_type": "code",
   "execution_count": 19,
   "metadata": {},
   "outputs": [],
   "source": [
    "file = open('fullcat.csv', 'w')\n",
    "N = 23702\n",
    "for i in range(N):\n",
    "    line1 = Lines[3*i+1].split()\n",
    "    line2 = Lines[3*i+2].split()\n",
    "    l = len(line1[1])\n",
    "\n",
    "    satellitteNumberIn = (5-l)*\"0\" + line1[1][0:5]\n",
    "    classificationIN = line1[1][-1]\n",
    "    launchYearIn = line1[2][0:2]\n",
    "    launchNumberIn = line1[2][2:5]\n",
    "    launchPieceIn = line1[2][5]\n",
    "    ephemerisTypeIn = line1[7]\n",
    "    elementNumberIn = line1[8][0:3]\n",
    "    epochIn = line1[3]\n",
    "    meanMotionIn = line2[7][0:11]\n",
    "    meanMotionFirstDerivateIn = line1[4]\n",
    "    meanMotionSecondDerivateIn = line1[5]\n",
    "    e = line2[4]\n",
    "    i = line2[2]\n",
    "    paIn = line2[5]\n",
    "    raanIn = line2[3]\n",
    "    meanAnomalyIn = line2[6]\n",
    "    revolutionNumberatEpochIn = line2[7][11:16]\n",
    "    bStarIn = line1[6]\n",
    "    file.write(satellitteNumberIn+',' +\n",
    "               classificationIN+',' +\n",
    "               launchYearIn+',' +\n",
    "               launchNumberIn+',' +\n",
    "               launchPieceIn+',' +\n",
    "               ephemerisTypeIn+',' +\n",
    "               elementNumberIn+',' +\n",
    "               epochIn+',' +\n",
    "               meanMotionIn+',' +\n",
    "               meanMotionFirstDerivateIn+',' +\n",
    "               meanMotionSecondDerivateIn+',' +\n",
    "               e+',' +\n",
    "               i+',' +\n",
    "               paIn+',' +\n",
    "               raanIn+',' +\n",
    "               meanAnomalyIn+',' +\n",
    "               revolutionNumberatEpochIn+',' +\n",
    "               bStarIn+'\\n')\n",
    "file.close()\n"
   ]
  },
  {
   "cell_type": "code",
   "execution_count": 16,
   "metadata": {},
   "outputs": [
    {
     "name": "stdout",
     "output_type": "stream",
     "text": [
      "23702.0\n"
     ]
    }
   ],
   "source": [
    "print(71106/3)"
   ]
  },
  {
   "cell_type": "code",
   "execution_count": 1,
   "metadata": {},
   "outputs": [
    {
     "name": "stdout",
     "output_type": "stream",
     "text": [
      "69\n"
     ]
    }
   ],
   "source": [
    "s=\"1 00005U 58002B   22310.34121010  .00000228  00000-0  27804-3 0  9996\"\n",
    "print(len(s))"
   ]
  }
 ],
 "metadata": {
  "kernelspec": {
   "display_name": "Python 3.10.6 64-bit",
   "language": "python",
   "name": "python3"
  },
  "language_info": {
   "codemirror_mode": {
    "name": "ipython",
    "version": 3
   },
   "file_extension": ".py",
   "mimetype": "text/x-python",
   "name": "python",
   "nbconvert_exporter": "python",
   "pygments_lexer": "ipython3",
   "version": "3.10.6"
  },
  "orig_nbformat": 4,
  "vscode": {
   "interpreter": {
    "hash": "916dbcbb3f70747c44a77c7bcd40155683ae19c65e1c03b4aa3499c5328201f1"
   }
  }
 },
 "nbformat": 4,
 "nbformat_minor": 2
}
